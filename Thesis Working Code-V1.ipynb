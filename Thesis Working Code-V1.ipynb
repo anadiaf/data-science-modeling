{
 "cells": [
  {
   "cell_type": "markdown",
   "id": "2a6a1d1a-b7cd-413e-bc75-4def2695dea0",
   "metadata": {},
   "source": [
    "# Master Thesis: Predicting Tech Workers' Mental Health Condition using Machine Learning Techniques"
   ]
  },
  {
   "cell_type": "markdown",
   "id": "11bc55a6-f7e9-4b80-95a2-9b4f42719819",
   "metadata": {},
   "source": [
    "# Pre-Processing"
   ]
  },
  {
   "cell_type": "markdown",
   "id": "0b72f327-50c6-4fa0-aecc-3c79def5a744",
   "metadata": {},
   "source": [
    "## Importing Library"
   ]
  },
  {
   "cell_type": "code",
   "execution_count": 2,
   "id": "980b5ea6-5d17-429b-bd23-0e0f54b063cc",
   "metadata": {},
   "outputs": [],
   "source": [
    "#pip install xgboost\n",
    "\n",
    "import pandas as pd\n",
    "import numpy as np\n",
    "from pandasql import sqldf\n",
    "from sklearn.impute import SimpleImputer\n",
    "from sklearn import preprocessing\n",
    "from sklearn.ensemble import RandomForestClassifier\n",
    "from sklearn.linear_model import LogisticRegression\n",
    "from sklearn.metrics import f1_score\n",
    "from matplotlib import pyplot\n",
    "from sklearn.preprocessing import StandardScaler\n",
    "from sklearn.model_selection import train_test_split\n",
    "from xgboost import XGBClassifier\n",
    "from sklearn.ensemble import AdaBoostClassifier\n",
    "from sklearn import svm\n",
    "from sklearn.model_selection import GridSearchCV\n",
    "from sklearn.model_selection import RandomizedSearchCV\n",
    "import matplotlib.pyplot as plt\n",
    "from sklearn.svm import SVC # \"Support vector classifier\"\n",
    "\n",
    "def plot_confusion_matrix(cm, classes,\n",
    "                          normalize=False,\n",
    "                          title='Confusion matrix',\n",
    "                          cmap=plt.cm.Blues):\n",
    "\n",
    "    plt.imshow(cm, interpolation='nearest', cmap=cmap)\n",
    "    plt.title(title)\n",
    "    plt.colorbar()\n",
    "    tick_marks = np.arange(len(classes))\n",
    "    plt.xticks(tick_marks, classes, rotation=45)\n",
    "    plt.yticks(tick_marks, classes)\n",
    "\n",
    "    if normalize:\n",
    "        cm = cm.astype('float') / cm.sum(axis=1)[:, np.newaxis]\n",
    "        print(\"Normalized confusion matrix\")\n",
    "    else:\n",
    "        print('Confusion matrix, without normalization')\n",
    "\n",
    "    thresh = cm.max() / 2.\n",
    "    for i, j in itertools.product(range(cm.shape[0]), range(cm.shape[1])):\n",
    "        plt.text(j, i, cm[i, j],\n",
    "                 horizontalalignment=\"center\",\n",
    "                 color=\"white\" if cm[i, j] > thresh else \"black\")\n",
    "\n",
    "    plt.tight_layout()\n",
    "    plt.ylabel('True label')\n",
    "    plt.xlabel('Predicted label')\n",
    "\n",
    "from sklearn import metrics\n",
    "import itertools\n",
    "\n",
    "pysqldf = lambda q: sqldf(q, globals())\n",
    "pd.set_option('display.max_columns', None)"
   ]
  },
  {
   "cell_type": "markdown",
   "id": "4d6fd5a3-bb14-4f2b-9946-d352ef37f113",
   "metadata": {},
   "source": [
    "## Loading the Dataset"
   ]
  },
  {
   "cell_type": "code",
   "execution_count": 3,
   "id": "05554f0c-0d59-40af-bcaa-544cad98631c",
   "metadata": {},
   "outputs": [],
   "source": [
    "df = pd.read_csv(\"Final Data.csv\",na_values=\"NaN\")\n",
    "\n",
    "\n",
    "# Remove Warning\n",
    "import warnings\n",
    "\n",
    "def fxn():\n",
    "    warnings.warn(\"deprecated\", DeprecationWarning)\n",
    "\n",
    "with warnings.catch_warnings():\n",
    "    warnings.simplefilter(\"ignore\")\n",
    "    fxn()"
   ]
  },
  {
   "cell_type": "code",
   "execution_count": 4,
   "id": "8679d787-de6c-4245-9fcf-1fcb010d8c54",
   "metadata": {},
   "outputs": [
    {
     "data": {
      "text/plain": [
       "(1836, 85)"
      ]
     },
     "execution_count": 4,
     "metadata": {},
     "output_type": "execute_result"
    }
   ],
   "source": [
    "df.shape"
   ]
  },
  {
   "cell_type": "markdown",
   "id": "5e6f5a0f-d2c2-49ac-9dd7-8a69e6435780",
   "metadata": {},
   "source": [
    "## Data Cleaning"
   ]
  },
  {
   "cell_type": "code",
   "execution_count": 5,
   "id": "d0bcc014-b5fd-4388-94a8-326a0fa503e3",
   "metadata": {},
   "outputs": [],
   "source": [
    "# Dropping Column\n",
    "def remove_column(df,column_name):\n",
    "    df = df.loc[:, ~df.columns.str.contains(column_name)]\n",
    "    return df \n",
    "\n",
    "df = remove_column(df, \"qual\")\n",
    "df = remove_column(df, \"date\")\n",
    "df = remove_column(df, \"network\")\n",
    "df = remove_column(df, \"covid\")\n",
    "df = remove_column(df, \"ad_hoc\")\n",
    "df = remove_column(df, \"country\")\n",
    "df = remove_column(df, \"state\")\n",
    "df = remove_column(df, \"prvemp\")\n",
    "df= df.drop(columns=['unique_id','year','race'])\n",
    "\n",
    "# Replacing None with NA\n",
    "df = df.fillna(value=np.nan)\n",
    "\n",
    "# Cleaning \"Gender\" Column\n",
    "df = sqldf(\"SELECT *, CASE WHEN lower(gender) like 'f' then 'female' WHEN lower(gender) like '%female%' then 'female' WHEN lower(gender) like '%woman%' then 'female' WHEN lower(gender) like 'm' then 'male' WHEN lower(gender) like '%-male' then 'male' WHEN lower(gender) like '% male' then 'male' WHEN lower(gender) like 'man' then 'male' WHEN lower(gender) like 'male%' then 'male' ELSE 'unidentified' end as 'new_gender'from df  ;\", locals())\n",
    "df= df.drop(columns=['gender'])\n",
    "\n",
    "# Cleaning \"Count Employees\" Column\n",
    "df = sqldf(\"SELECT *, case when count_employees ='Jun-25' then '6-25' when count_employees = '01-May' then '0-5' else count_employees end as count_employees_new from df;\", locals())\n",
    "df= df.drop(columns=['count_employees'])\n",
    "\n",
    "#Dropping Anomaly in Age\n",
    "df = df.loc[(df['age'] > 1)]\n",
    "df = df.loc[(df['age'] < 100)]\n"
   ]
  },
  {
   "cell_type": "code",
   "execution_count": 6,
   "id": "98e86fd8-4754-4b6b-9c71-9dc091879396",
   "metadata": {},
   "outputs": [],
   "source": [
    "# Dropping Column with Total Response < 50% \n",
    "df = df.dropna(thresh=((len(df)*0.7)),axis = 1)\n",
    "# Dropping Row with Total Response < 50% \n",
    "df ['NA_per_row'] = df.isnull().sum(axis=1)\n",
    "df = df.loc[df['NA_per_row'] < ((len(df. columns)*0.3))]\n",
    "df= df.drop(columns=['NA_per_row'])"
   ]
  },
  {
   "cell_type": "code",
   "execution_count": 7,
   "id": "6a3fef09-70cc-4725-b0e1-940e3a2276f2",
   "metadata": {},
   "outputs": [
    {
     "data": {
      "text/plain": [
       "(1575, 36)"
      ]
     },
     "execution_count": 7,
     "metadata": {},
     "output_type": "execute_result"
    }
   ],
   "source": [
    "categorical_columns = list(df.select_dtypes(include=['object']).columns)\n",
    "numeric_columns =  list(df.select_dtypes(include=['float64']).columns)\n",
    "all_column_name = list(df.columns)\n",
    "df.shape"
   ]
  },
  {
   "cell_type": "code",
   "execution_count": 9,
   "id": "7051311f-d5ac-4664-9251-aad7c17b403c",
   "metadata": {},
   "outputs": [
    {
     "data": {
      "text/plain": [
       "Yes           649\n",
       "No            466\n",
       "Possibly      328\n",
       "Don't Know    132\n",
       "Name: self_current_mh_dis, dtype: int64"
      ]
     },
     "execution_count": 9,
     "metadata": {},
     "output_type": "execute_result"
    }
   ],
   "source": [
    "df['self_current_mh_dis'].value_counts()"
   ]
  },
  {
   "cell_type": "code",
   "execution_count": 11,
   "id": "bf5ac797-ca6d-4ddd-9a44-e730092dca95",
   "metadata": {},
   "outputs": [
    {
     "data": {
      "text/plain": [
       "1575"
      ]
     },
     "execution_count": 11,
     "metadata": {},
     "output_type": "execute_result"
    }
   ],
   "source": [
    "len(df['self_current_mh_dis'])"
   ]
  },
  {
   "cell_type": "markdown",
   "id": "928f58f1-8edc-4b2a-b738-199a327e1c12",
   "metadata": {},
   "source": [
    "## Impute the Missing Data"
   ]
  },
  {
   "cell_type": "code",
   "execution_count": 9,
   "id": "e30efe20-b07a-4db2-b68e-cee9327a3b8d",
   "metadata": {},
   "outputs": [],
   "source": [
    "imp = SimpleImputer(missing_values=np.nan, strategy='most_frequent')\n",
    "df_new = imp.fit_transform(df)\n",
    "#df_new\n",
    "#df_new = df.apply(SimpleImputer(missing_values=np.nan, strategy='most_frequent').fit_transform)\n",
    "df_new = pd.DataFrame(data=df_new)\n",
    "df_new.columns = all_column_name\n",
    "#df_new.head(10)"
   ]
  },
  {
   "cell_type": "markdown",
   "id": "fdabe55d-5a37-495c-8736-6a8da0ee518a",
   "metadata": {},
   "source": [
    "## Feature Encoder"
   ]
  },
  {
   "cell_type": "code",
   "execution_count": 10,
   "id": "672a2561-cde3-426e-b7b4-b09041d9c5d6",
   "metadata": {},
   "outputs": [],
   "source": [
    "# Splitting Data into x (feature) and y (target attribute)\n",
    "x = df_new.drop(columns=['self_current_mh_dis'])\n",
    "y = df_new['self_current_mh_dis']\n",
    "\n",
    "# Converting Target Attribute from 4 class into 3 class\n",
    "y_new = sqldf (\"select case when self_current_mh_dis = 'Yes' then 'Yes' when self_current_mh_dis = 'No' then 'No' else 'Maybe' end as self_current_mh_dis from y ;\", locals())\n",
    "y_new = sqldf (\"select case when self_current_mh_dis = 'Yes' then 1 when self_current_mh_dis = 'No' then 0 else 2 end as y_numeric from y_new ;\", locals())\n",
    "y_new = np.asarray(y_new)\n",
    "\n",
    "# Coding Feature into Numerical\n",
    "all_feature = list(x.columns)\n",
    "le = preprocessing.LabelEncoder()\n",
    "x_new = x.apply(preprocessing.LabelEncoder().fit_transform)\n"
   ]
  },
  {
   "cell_type": "code",
   "execution_count": 10,
   "id": "f7434dce-4d16-4498-9448-91bf977d7e7a",
   "metadata": {},
   "outputs": [
    {
     "data": {
      "text/plain": [
       "(1575, 35)"
      ]
     },
     "execution_count": 10,
     "metadata": {},
     "output_type": "execute_result"
    }
   ],
   "source": [
    "x_new.shape"
   ]
  },
  {
   "cell_type": "code",
   "execution_count": 25,
   "id": "3ed68d84-8c6f-47c8-8567-7ae3310ba8d2",
   "metadata": {},
   "outputs": [],
   "source": [
    "df[categorical_columns].to_csv(\"df_categorical.csv\")"
   ]
  },
  {
   "cell_type": "code",
   "execution_count": 26,
   "id": "4e8ccf83-2995-4c3a-b2fb-5917cff18614",
   "metadata": {},
   "outputs": [],
   "source": [
    "df[numeric_columns].to_csv(\"df_numeric.csv\")"
   ]
  },
  {
   "cell_type": "markdown",
   "id": "60478804-684e-4341-b54b-db07a80f9ca8",
   "metadata": {},
   "source": [
    "## Split the Data into Training & Validation Set"
   ]
  },
  {
   "cell_type": "code",
   "execution_count": 11,
   "id": "a2ff4c82-9cfc-4d81-a0b5-f99e166a9154",
   "metadata": {},
   "outputs": [],
   "source": [
    "# Split the Data\n",
    "X_train, X_test, y_train, y_test = train_test_split(x_new, y_new, test_size = 0.3, random_state = 3)\n",
    "\n",
    "# Normalization\n",
    "sc = StandardScaler()\n",
    "X_train = sc.fit_transform(X_train)\n",
    "X_test = sc.fit_transform(X_test)"
   ]
  },
  {
   "cell_type": "code",
   "execution_count": 12,
   "id": "1794aee7-ac70-46c0-ad8c-635810317d61",
   "metadata": {},
   "outputs": [
    {
     "data": {
      "text/plain": [
       "(473, 35)"
      ]
     },
     "execution_count": 12,
     "metadata": {},
     "output_type": "execute_result"
    }
   ],
   "source": [
    "X_test.shape"
   ]
  },
  {
   "cell_type": "markdown",
   "id": "5ac0cd6e-6a01-41c5-bb14-a583152f189f",
   "metadata": {},
   "source": [
    "***"
   ]
  },
  {
   "cell_type": "markdown",
   "id": "502d071b-8d0b-446b-813d-d8371f94e243",
   "metadata": {},
   "source": [
    "# Run the Prediction Model & Evaluation"
   ]
  },
  {
   "cell_type": "markdown",
   "id": "16c71bd3-3132-4520-9aa8-eb89b54dbcca",
   "metadata": {},
   "source": [
    "## Logistic Regression"
   ]
  },
  {
   "cell_type": "markdown",
   "id": "89227512-677c-46ae-81e1-47d448380872",
   "metadata": {},
   "source": [
    "### Training the Model"
   ]
  },
  {
   "cell_type": "code",
   "execution_count": 13,
   "id": "600887b2-1906-43c5-b238-f5e8d3bd7e6d",
   "metadata": {},
   "outputs": [
    {
     "data": {
      "text/plain": [
       "dict_keys(['C', 'class_weight', 'dual', 'fit_intercept', 'intercept_scaling', 'l1_ratio', 'max_iter', 'multi_class', 'n_jobs', 'penalty', 'random_state', 'solver', 'tol', 'verbose', 'warm_start'])"
      ]
     },
     "execution_count": 13,
     "metadata": {},
     "output_type": "execute_result"
    }
   ],
   "source": [
    "log_reg = LogisticRegression(random_state = 0)\n",
    "log_reg.fit(X_train, y_train.ravel())\n",
    "log_reg.get_params().keys()"
   ]
  },
  {
   "cell_type": "code",
   "execution_count": 14,
   "id": "c33e6b3e-d35c-4e58-9b41-c3f2e2cf3a1a",
   "metadata": {},
   "outputs": [
    {
     "name": "stdout",
     "output_type": "stream",
     "text": [
      "Fitting 5 folds for each of 10 candidates, totalling 50 fits\n"
     ]
    },
    {
     "data": {
      "text/plain": [
       "RandomizedSearchCV(estimator=LogisticRegression(random_state=0), n_jobs=-1,\n",
       "                   param_distributions=[{'C': array([1.00000000e-04, 2.63665090e-04, 6.95192796e-04, 1.83298071e-03,\n",
       "       4.83293024e-03, 1.27427499e-02, 3.35981829e-02, 8.85866790e-02,\n",
       "       2.33572147e-01, 6.15848211e-01, 1.62377674e+00, 4.28133240e+00,\n",
       "       1.12883789e+01, 2.97635144e+01, 7.84759970e+01, 2.06913808e+02,\n",
       "       5.45559478e+02, 1.43844989e+03, 3.79269019e+03, 1.00000000e+04]),\n",
       "                                         'max_iter': [100, 1000, 2500, 5000],\n",
       "                                         'solver': ['lbfgs', 'newton-cg',\n",
       "                                                    'liblinear', 'sag',\n",
       "                                                    'saga']}],\n",
       "                   scoring='f1_micro', verbose=2)"
      ]
     },
     "execution_count": 14,
     "metadata": {},
     "output_type": "execute_result"
    }
   ],
   "source": [
    "param_grid = [    \n",
    "    {\n",
    "    #'penalty' : ['l1', 'l2', 'elasticnet', 'none'],\n",
    "    'C' : np.logspace(-4, 4, 20),\n",
    "    'solver' : ['lbfgs','newton-cg','liblinear','sag','saga'],\n",
    "    'max_iter' : [100, 1000,2500, 5000]\n",
    "    }\n",
    "]\n",
    "\n",
    "#grid = RandomizedSearchCV(svc,param_grid,refit=True,verbose=1)\n",
    "\n",
    "log_reg_cv = RandomizedSearchCV(log_reg, param_grid,verbose=2, n_jobs=-1,scoring='f1_micro')\n",
    "log_reg_cv.fit(X_train, y_train.ravel())"
   ]
  },
  {
   "cell_type": "code",
   "execution_count": 15,
   "id": "e6a6c3df-976b-4152-a3cd-70eeb9ffbea6",
   "metadata": {},
   "outputs": [
    {
     "name": "stdout",
     "output_type": "stream",
     "text": [
      "The average f1 score from cross validation for Logistic Regression is 0.7032373508844098\n"
     ]
    }
   ],
   "source": [
    "print (\"The average f1 score from cross validation for Logistic Regression is\", log_reg_cv.best_score_)"
   ]
  },
  {
   "cell_type": "code",
   "execution_count": 16,
   "id": "e72df222-bbd6-4772-9852-464e77ad9ec2",
   "metadata": {},
   "outputs": [
    {
     "name": "stdout",
     "output_type": "stream",
     "text": [
      "The optimal model Logistic Regression is with parameter {'solver': 'liblinear', 'max_iter': 1000, 'C': 1.623776739188721}\n"
     ]
    }
   ],
   "source": [
    "print (\"The optimal model Logistic Regression is with parameter\", log_reg_cv.best_params_)"
   ]
  },
  {
   "cell_type": "markdown",
   "id": "dc6b090c-c175-4809-baac-016492037111",
   "metadata": {},
   "source": [
    "### Predicting on Test Set"
   ]
  },
  {
   "cell_type": "code",
   "execution_count": 17,
   "id": "22968f27-08a7-44b4-9dd8-2302ef49f3dc",
   "metadata": {},
   "outputs": [
    {
     "name": "stdout",
     "output_type": "stream",
     "text": [
      "The f1 score for Logistic Regression is 0.6680761099365751\n"
     ]
    }
   ],
   "source": [
    "log_reg.set_params(**log_reg_cv.best_params_, random_state = 0)\n",
    "y_pred = log_reg.predict(X_test)\n",
    "\n",
    "\n",
    "print (\"The f1 score for Logistic Regression is\", f1_score(y_test, y_pred, average='micro'))"
   ]
  },
  {
   "cell_type": "code",
   "execution_count": 18,
   "id": "31a469dd-6a64-4fc4-b4fe-72e7343260e7",
   "metadata": {},
   "outputs": [
    {
     "data": {
      "text/plain": [
       "{'Logistic Regression': 0.668}"
      ]
     },
     "execution_count": 18,
     "metadata": {},
     "output_type": "execute_result"
    }
   ],
   "source": [
    "summary_f1 = {}\n",
    "summary_f1['Logistic Regression'] = round(f1_score(y_test, y_pred, average='micro'),3)\n",
    "summary_f1                              "
   ]
  },
  {
   "cell_type": "code",
   "execution_count": 19,
   "id": "2b00b18c-69c9-497d-8bf6-5d5b4e062614",
   "metadata": {},
   "outputs": [
    {
     "name": "stdout",
     "output_type": "stream",
     "text": [
      "Confusion matrix, without normalization\n"
     ]
    },
    {
     "data": {
      "image/png": "[encoded data removed]",
      "text/plain": [
       "<Figure size 432x288 with 2 Axes>"
      ]
     },
     "metadata": {
      "needs_background": "light"
     },
     "output_type": "display_data"
    }
   ],
   "source": [
    "cm = metrics.confusion_matrix(y_test, y_pred)\n",
    "plot_confusion_matrix(cm,classes=['No', 'Yes','Maybe'])"
   ]
  },
  {
   "cell_type": "markdown",
   "id": "b17569dc-b02f-49af-b0c5-2848ee3d264d",
   "metadata": {},
   "source": [
    "## Support Vector Classifier"
   ]
  },
  {
   "cell_type": "markdown",
   "id": "a05e8482-7b45-4dec-a1cd-bc053c6578d7",
   "metadata": {},
   "source": [
    "### Training the Model"
   ]
  },
  {
   "cell_type": "code",
   "execution_count": 20,
   "id": "1d5d6aca-d3f0-45a6-b91d-e142ab9f2da7",
   "metadata": {},
   "outputs": [
    {
     "data": {
      "text/plain": [
       "dict_keys(['C', 'break_ties', 'cache_size', 'class_weight', 'coef0', 'decision_function_shape', 'degree', 'gamma', 'kernel', 'max_iter', 'probability', 'random_state', 'shrinking', 'tol', 'verbose'])"
      ]
     },
     "execution_count": 20,
     "metadata": {},
     "output_type": "execute_result"
    }
   ],
   "source": [
    "svc = SVC()\n",
    "svc.fit(X_train, y_train.ravel())\n",
    "svc.get_params().keys()"
   ]
  },
  {
   "cell_type": "code",
   "execution_count": 21,
   "id": "81398213-cdbe-4daf-8f14-4ac4db685eb2",
   "metadata": {},
   "outputs": [
    {
     "name": "stdout",
     "output_type": "stream",
     "text": [
      "Fitting 5 folds for each of 10 candidates, totalling 50 fits\n"
     ]
    },
    {
     "data": {
      "text/plain": [
       "RandomizedSearchCV(estimator=SVC(),\n",
       "                   param_distributions={'C': [0.1, 1, 10, 100, 1000],\n",
       "                                        'gamma': [1, 0.1, 0.01, 0.001, 0.0001],\n",
       "                                        'kernel': ['rbf']},\n",
       "                   scoring='f1_micro', verbose=1)"
      ]
     },
     "execution_count": 21,
     "metadata": {},
     "output_type": "execute_result"
    }
   ],
   "source": [
    "param_grid = {'C': [0.1, 1, 10, 100, 1000],\n",
    "              'gamma': [1, 0.1, 0.01, 0.001, 0.0001],\n",
    "              'kernel': ['rbf']}\n",
    " \n",
    "svc_cv = RandomizedSearchCV(SVC(), param_grid, refit = True, verbose = 1,scoring='f1_micro')\n",
    " \n",
    "# fitting the model for grid search\n",
    "svc_cv.fit(X_train, y_train.ravel())"
   ]
  },
  {
   "cell_type": "code",
   "execution_count": 22,
   "id": "a85f8c18-e87a-4134-b524-98d603345f06",
   "metadata": {},
   "outputs": [
    {
     "name": "stdout",
     "output_type": "stream",
     "text": [
      "The average f1 score from cross validation for Support Vector Classifier is 0.7095927601809955\n"
     ]
    }
   ],
   "source": [
    "print (\"The average f1 score from cross validation for Support Vector Classifier is\", svc_cv.best_score_)"
   ]
  },
  {
   "cell_type": "code",
   "execution_count": 23,
   "id": "7121ffd3-6ad5-4e75-9939-bd22e40b9241",
   "metadata": {},
   "outputs": [
    {
     "name": "stdout",
     "output_type": "stream",
     "text": [
      "The optimal model Support Vector Classifier is with parameter {'kernel': 'rbf', 'gamma': 0.0001, 'C': 100}\n"
     ]
    }
   ],
   "source": [
    "print (\"The optimal model Support Vector Classifier is with parameter\", svc_cv.best_params_)"
   ]
  },
  {
   "cell_type": "markdown",
   "id": "004ebe30-cf1b-43b4-aead-e2e983deb131",
   "metadata": {},
   "source": [
    "### Predicting on Test Data"
   ]
  },
  {
   "cell_type": "code",
   "execution_count": 24,
   "id": "32075006-e7f5-4f0f-b403-dc98d371a50d",
   "metadata": {},
   "outputs": [
    {
     "name": "stdout",
     "output_type": "stream",
     "text": [
      "The f1 score for Support Vector Classifier is 0.6807610993657506\n"
     ]
    }
   ],
   "source": [
    "svc.set_params(**svc_cv.best_params_,random_state=0)\n",
    "y_pred = svc.predict(X_test)\n",
    "\n",
    "print (\"The f1 score for Support Vector Classifier is\", f1_score(y_test, y_pred, average='micro'))"
   ]
  },
  {
   "cell_type": "code",
   "execution_count": 25,
   "id": "dad2391c-af07-4483-b673-b9a8230b63eb",
   "metadata": {},
   "outputs": [
    {
     "data": {
      "text/plain": [
       "{'Logistic Regression': 0.668, 'Support Vector Classifier': 0.681}"
      ]
     },
     "execution_count": 25,
     "metadata": {},
     "output_type": "execute_result"
    }
   ],
   "source": [
    "summary_f1['Support Vector Classifier'] = round(f1_score(y_test, y_pred, average='micro'),3)\n",
    "summary_f1                              "
   ]
  },
  {
   "cell_type": "code",
   "execution_count": 26,
   "id": "429c23c6-a45b-4660-83ec-989b734edcbe",
   "metadata": {},
   "outputs": [
    {
     "name": "stdout",
     "output_type": "stream",
     "text": [
      "Confusion matrix, without normalization\n"
     ]
    },
    {
     "data": {
      "image/png": "[encoded data removed]",
      "text/plain": [
       "<Figure size 432x288 with 2 Axes>"
      ]
     },
     "metadata": {
      "needs_background": "light"
     },
     "output_type": "display_data"
    }
   ],
   "source": [
    "cm = metrics.confusion_matrix(y_test, y_pred)\n",
    "plot_confusion_matrix(cm,classes=['No', 'Yes','Maybe'])"
   ]
  },
  {
   "cell_type": "markdown",
   "id": "2cbd5809-313c-492b-9474-54440cc65919",
   "metadata": {},
   "source": [
    "## Random Forest Classifier"
   ]
  },
  {
   "cell_type": "markdown",
   "id": "ed4fc5e1-a3c0-42ed-8d0d-ea6191aa8f67",
   "metadata": {},
   "source": [
    "### Training the Model"
   ]
  },
  {
   "cell_type": "code",
   "execution_count": 27,
   "id": "39b0374b-e0dd-4dbc-bb3b-06b1936e99e9",
   "metadata": {},
   "outputs": [
    {
     "data": {
      "text/plain": [
       "RandomForestClassifier(random_state=0)"
      ]
     },
     "execution_count": 27,
     "metadata": {},
     "output_type": "execute_result"
    }
   ],
   "source": [
    "rfc = RandomForestClassifier(random_state=0)\n",
    "rfc.fit(X_train, y_train.ravel())"
   ]
  },
  {
   "cell_type": "code",
   "execution_count": 28,
   "id": "8e61a411-17d4-4125-a57a-478b874be8bf",
   "metadata": {},
   "outputs": [
    {
     "name": "stdout",
     "output_type": "stream",
     "text": [
      "Fitting 5 folds for each of 10 candidates, totalling 50 fits\n"
     ]
    },
    {
     "data": {
      "text/plain": [
       "RandomizedSearchCV(estimator=RandomForestClassifier(random_state=0), n_jobs=-1,\n",
       "                   param_distributions={'max_depth': [1, 6, 11, 16, 21, 26, 31,\n",
       "                                                      36, 41, 46],\n",
       "                                        'n_estimators': [5, 15, 25, 35, 45]},\n",
       "                   random_state=0, scoring='f1_micro', verbose=2)"
      ]
     },
     "execution_count": 28,
     "metadata": {},
     "output_type": "execute_result"
    }
   ],
   "source": [
    "# Number of trees in random forest\n",
    "n_estimators = [int(x) for x in np.arange(5, 50, 10)]\n",
    "# Maximum number of levels in tree\n",
    "max_depth = [int(x) for x in np.arange(1, 50, 5)]\n",
    "\n",
    "random_grid = {'n_estimators': n_estimators,\n",
    "               'max_depth': max_depth,\n",
    "              }\n",
    "\n",
    "# Use the random grid to search for best hyperparameters\n",
    "# Random search of parameters, using 3 fold cross validation, \n",
    "# search across 100 different combinations, and use all available cores\n",
    "rf_random = RandomizedSearchCV(estimator = rfc, param_distributions = random_grid, verbose=2, random_state=0, n_jobs = -1,\n",
    "                               scoring='f1_micro')\n",
    "# Fit the random search model\n",
    "rf_random.fit(X_train, y_train.ravel())"
   ]
  },
  {
   "cell_type": "code",
   "execution_count": 29,
   "id": "6b33d9cf-a726-479f-9297-3f31891a0521",
   "metadata": {},
   "outputs": [
    {
     "name": "stdout",
     "output_type": "stream",
     "text": [
      "The average f1 score from cross validation for Random Forest is 0.7313903743315509\n"
     ]
    }
   ],
   "source": [
    "print (\"The average f1 score from cross validation for Random Forest is\", rf_random.best_score_)"
   ]
  },
  {
   "cell_type": "code",
   "execution_count": 30,
   "id": "c74c92ec-c208-4cbb-a817-79bcfc545888",
   "metadata": {},
   "outputs": [
    {
     "name": "stdout",
     "output_type": "stream",
     "text": [
      "The optimal model Random Forest is with parameter {'n_estimators': 35, 'max_depth': 26}\n"
     ]
    }
   ],
   "source": [
    "print (\"The optimal model Random Forest is with parameter\", rf_random.best_params_)"
   ]
  },
  {
   "cell_type": "markdown",
   "id": "15d5a412-7087-4576-940c-2a92f11c5ba0",
   "metadata": {},
   "source": [
    "### Predicting on Test Set"
   ]
  },
  {
   "cell_type": "code",
   "execution_count": 31,
   "id": "0c72c510-05d5-4909-9882-84249c314b5a",
   "metadata": {},
   "outputs": [
    {
     "name": "stdout",
     "output_type": "stream",
     "text": [
      "The f1 score for Random Forest Classifier is 0.7082452431289642\n"
     ]
    }
   ],
   "source": [
    "rfc.set_params(**rf_random.best_params_,random_state=0)\n",
    "y_pred = rfc.predict(X_test)\n",
    "\n",
    "print (\"The f1 score for Random Forest Classifier is\", f1_score(y_test, y_pred, average='micro'))"
   ]
  },
  {
   "cell_type": "code",
   "execution_count": 32,
   "id": "e075ccb2-50e4-4404-b53f-cfbccdfad1fc",
   "metadata": {},
   "outputs": [
    {
     "data": {
      "text/plain": [
       "{'Logistic Regression': 0.668,\n",
       " 'Support Vector Classifier': 0.681,\n",
       " 'Random Forest Classifier': 0.708}"
      ]
     },
     "execution_count": 32,
     "metadata": {},
     "output_type": "execute_result"
    }
   ],
   "source": [
    "summary_f1['Random Forest Classifier'] = round(f1_score(y_test, y_pred, average='micro'),3)\n",
    "summary_f1            "
   ]
  },
  {
   "cell_type": "code",
   "execution_count": 33,
   "id": "d034f207-4b98-4962-b697-0a32418e8244",
   "metadata": {},
   "outputs": [
    {
     "name": "stdout",
     "output_type": "stream",
     "text": [
      "Confusion matrix, without normalization\n"
     ]
    },
    {
     "data": {
      "image/png": "[encoded data removed]",
      "text/plain": [
       "<Figure size 432x288 with 2 Axes>"
      ]
     },
     "metadata": {
      "needs_background": "light"
     },
     "output_type": "display_data"
    }
   ],
   "source": [
    "cm = metrics.confusion_matrix(y_test, y_pred)\n",
    "plot_confusion_matrix(cm,classes=['No', 'Yes','Maybe'])"
   ]
  },
  {
   "cell_type": "markdown",
   "id": "90f42141-aab5-4c01-87c5-eed3568204c5",
   "metadata": {},
   "source": [
    "## AdaBoost Classifier"
   ]
  },
  {
   "cell_type": "markdown",
   "id": "8b9d6cce-e731-4bd9-847f-ae037de4e7cb",
   "metadata": {},
   "source": [
    "### Training the Model"
   ]
  },
  {
   "cell_type": "code",
   "execution_count": 34,
   "id": "41e61c6a-d87d-46a8-a6d2-523ffee27fbb",
   "metadata": {},
   "outputs": [
    {
     "data": {
      "text/plain": [
       "AdaBoostClassifier(random_state=0)"
      ]
     },
     "execution_count": 34,
     "metadata": {},
     "output_type": "execute_result"
    }
   ],
   "source": [
    "abc = AdaBoostClassifier(random_state=0)\n",
    "abc.fit(X_train, y_train.ravel())"
   ]
  },
  {
   "cell_type": "code",
   "execution_count": 35,
   "id": "fb96f7e7-ed36-4b16-8e22-58835db278c5",
   "metadata": {},
   "outputs": [
    {
     "data": {
      "text/plain": [
       "dict_keys(['algorithm', 'base_estimator', 'learning_rate', 'n_estimators', 'random_state'])"
      ]
     },
     "execution_count": 35,
     "metadata": {},
     "output_type": "execute_result"
    }
   ],
   "source": [
    "abc.get_params().keys()"
   ]
  },
  {
   "cell_type": "code",
   "execution_count": 36,
   "id": "f3650dba-0343-4126-916d-8ed142581abb",
   "metadata": {},
   "outputs": [
    {
     "name": "stdout",
     "output_type": "stream",
     "text": [
      "Fitting 5 folds for each of 10 candidates, totalling 50 fits\n",
      "Wall time: 24 s\n"
     ]
    },
    {
     "data": {
      "text/plain": [
       "RandomizedSearchCV(estimator=AdaBoostClassifier(random_state=0), n_jobs=-1,\n",
       "                   param_distributions={'learning_rate': [0.001, 0.101, 0.201,\n",
       "                                                          0.30100000000000005,\n",
       "                                                          0.401, 0.501,\n",
       "                                                          0.6010000000000001,\n",
       "                                                          0.7010000000000001,\n",
       "                                                          0.801, 0.901],\n",
       "                                        'n_estimators': [10, 15, 20, 25, 30, 35,\n",
       "                                                         40, 45, 50, 55, 60, 65,\n",
       "                                                         70, 75, 80, 85, 90, 95,\n",
       "                                                         100, 105, 110, 115,\n",
       "                                                         120, 125, 130, 135,\n",
       "                                                         140, 145, 150, 155, ...]},\n",
       "                   scoring='f1_micro', verbose=2)"
      ]
     },
     "execution_count": 36,
     "metadata": {},
     "output_type": "execute_result"
    }
   ],
   "source": [
    "%%time\n",
    "#Creating a grid of hyperparameters\n",
    "grid_params = {    'n_estimators':  [int(x) for x in np.arange(10,200,5)],\n",
    "              'learning_rate': [(x) for x in np.arange(0.001,1,0.1)] } \n",
    "abc_random = RandomizedSearchCV(estimator = abc, param_distributions = grid_params, scoring = 'f1_micro', n_jobs = -1,verbose=2)\n",
    "#Fitting the grid to the training data\n",
    "abc_random.fit(X_train, y_train.ravel())"
   ]
  },
  {
   "cell_type": "code",
   "execution_count": 37,
   "id": "4ee53a60-22d5-42c6-84b0-ef9fc802e886",
   "metadata": {},
   "outputs": [
    {
     "name": "stdout",
     "output_type": "stream",
     "text": [
      "The average f1 score from cross validation for AdaBoost is 0.7359317153434801\n"
     ]
    }
   ],
   "source": [
    "print (\"The average f1 score from cross validation for AdaBoost is\", abc_random.best_score_)"
   ]
  },
  {
   "cell_type": "code",
   "execution_count": 38,
   "id": "da403ec4-7827-419b-819c-d71c0185f540",
   "metadata": {},
   "outputs": [
    {
     "name": "stdout",
     "output_type": "stream",
     "text": [
      "The optimal model AdaBoost is with parameter {'n_estimators': 180, 'learning_rate': 0.201}\n"
     ]
    }
   ],
   "source": [
    "print (\"The optimal model AdaBoost is with parameter\", abc_random.best_params_)"
   ]
  },
  {
   "cell_type": "markdown",
   "id": "c68c1b14-42a0-4039-bff7-d5648432e0b3",
   "metadata": {},
   "source": [
    "### Predicting on Test Set"
   ]
  },
  {
   "cell_type": "code",
   "execution_count": 39,
   "id": "98117b37-80b2-4898-9470-59d2bbc0d743",
   "metadata": {},
   "outputs": [
    {
     "name": "stdout",
     "output_type": "stream",
     "text": [
      "The F1 score for AdaBoost Classifier is 0.6997885835095138\n"
     ]
    }
   ],
   "source": [
    "abc.set_params(**abc_random.best_params_,random_state=0)\n",
    "y_pred = abc.predict(X_test)\n",
    "\n",
    "print (\"The F1 score for AdaBoost Classifier is\", f1_score(y_test, y_pred, average='micro'))"
   ]
  },
  {
   "cell_type": "code",
   "execution_count": 40,
   "id": "87e3a5b9-5e58-4ab4-a208-2b9ff26141be",
   "metadata": {},
   "outputs": [
    {
     "data": {
      "text/plain": [
       "{'Logistic Regression': 0.668,\n",
       " 'Support Vector Classifier': 0.681,\n",
       " 'Random Forest Classifier': 0.708,\n",
       " 'AdaBoost Classifier': 0.7}"
      ]
     },
     "execution_count": 40,
     "metadata": {},
     "output_type": "execute_result"
    }
   ],
   "source": [
    "summary_f1['AdaBoost Classifier'] = round(f1_score(y_test, y_pred, average='micro'),3)\n",
    "summary_f1            "
   ]
  },
  {
   "cell_type": "code",
   "execution_count": 41,
   "id": "855a9463-4883-4c8e-a873-cd0710152ba6",
   "metadata": {},
   "outputs": [
    {
     "name": "stdout",
     "output_type": "stream",
     "text": [
      "Confusion matrix, without normalization\n"
     ]
    },
    {
     "data": {
      "image/png": "[encoded data removed]",
      "text/plain": [
       "<Figure size 432x288 with 2 Axes>"
      ]
     },
     "metadata": {
      "needs_background": "light"
     },
     "output_type": "display_data"
    }
   ],
   "source": [
    "cm = metrics.confusion_matrix(y_test, y_pred)\n",
    "plot_confusion_matrix(cm,classes=['No', 'Yes','Maybe'])"
   ]
  },
  {
   "cell_type": "markdown",
   "id": "090a7286-21c6-4c17-9d93-478e4c1bd4cd",
   "metadata": {},
   "source": [
    "## XGBoost Classifier"
   ]
  },
  {
   "cell_type": "markdown",
   "id": "de8e8621-7297-46af-a5ee-3e6a65d0513b",
   "metadata": {},
   "source": [
    "### Training the Model"
   ]
  },
  {
   "cell_type": "code",
   "execution_count": 42,
   "id": "8c3b7033-c587-468f-bb39-fcdf5cc15af0",
   "metadata": {},
   "outputs": [
    {
     "name": "stdout",
     "output_type": "stream",
     "text": [
      "[21:28:13] WARNING: C:/Users/Administrator/workspace/xgboost-win64_release_1.5.1/src/learner.cc:1115: Starting in XGBoost 1.3.0, the default evaluation metric used with the objective 'multi:softprob' was changed from 'merror' to 'mlogloss'. Explicitly set eval_metric if you'd like to restore the old behavior.\n"
     ]
    },
    {
     "data": {
      "text/plain": [
       "XGBClassifier(base_score=0.5, booster='gbtree', colsample_bylevel=1,\n",
       "              colsample_bynode=1, colsample_bytree=1, enable_categorical=False,\n",
       "              gamma=0, gpu_id=-1, importance_type='total_gain',\n",
       "              interaction_constraints='', learning_rate=0.300000012,\n",
       "              max_delta_step=0, max_depth=6, min_child_weight=1, missing=nan,\n",
       "              monotone_constraints='()', n_estimators=100, n_jobs=4,\n",
       "              num_parallel_tree=1, objective='multi:softprob', predictor='auto',\n",
       "              random_state=0, reg_alpha=0, reg_lambda=1, scale_pos_weight=None,\n",
       "              subsample=1, tree_method='exact', use_label_encoder=False,\n",
       "              validate_parameters=1, verbosity=None)"
      ]
     },
     "execution_count": 42,
     "metadata": {},
     "output_type": "execute_result"
    }
   ],
   "source": [
    "xgb = XGBClassifier(use_label_encoder=False,random_state =0,importance_type='total_gain')\n",
    "xgb.fit(X_train, y_train.ravel())"
   ]
  },
  {
   "cell_type": "code",
   "execution_count": 43,
   "id": "9c814cbb-92f8-489b-b407-3877ce392bf1",
   "metadata": {},
   "outputs": [
    {
     "data": {
      "text/plain": [
       "dict_keys(['objective', 'use_label_encoder', 'base_score', 'booster', 'colsample_bylevel', 'colsample_bynode', 'colsample_bytree', 'enable_categorical', 'gamma', 'gpu_id', 'importance_type', 'interaction_constraints', 'learning_rate', 'max_delta_step', 'max_depth', 'min_child_weight', 'missing', 'monotone_constraints', 'n_estimators', 'n_jobs', 'num_parallel_tree', 'predictor', 'random_state', 'reg_alpha', 'reg_lambda', 'scale_pos_weight', 'subsample', 'tree_method', 'validate_parameters', 'verbosity'])"
      ]
     },
     "execution_count": 43,
     "metadata": {},
     "output_type": "execute_result"
    }
   ],
   "source": [
    "xgb.get_params().keys()"
   ]
  },
  {
   "cell_type": "code",
   "execution_count": 44,
   "id": "9eb5ceed-a08f-4417-9600-47781af411ce",
   "metadata": {},
   "outputs": [
    {
     "name": "stdout",
     "output_type": "stream",
     "text": [
      "Fitting 5 folds for each of 10 candidates, totalling 50 fits\n",
      "[21:30:08] WARNING: C:/Users/Administrator/workspace/xgboost-win64_release_1.5.1/src/learner.cc:1115: Starting in XGBoost 1.3.0, the default evaluation metric used with the objective 'multi:softprob' was changed from 'merror' to 'mlogloss'. Explicitly set eval_metric if you'd like to restore the old behavior.\n",
      "Wall time: 2min 2s\n"
     ]
    },
    {
     "data": {
      "text/plain": [
       "RandomizedSearchCV(estimator=XGBClassifier(base_score=0.5, booster='gbtree',\n",
       "                                           colsample_bylevel=1,\n",
       "                                           colsample_bynode=1,\n",
       "                                           colsample_bytree=1,\n",
       "                                           enable_categorical=False, gamma=0,\n",
       "                                           gpu_id=-1,\n",
       "                                           importance_type='total_gain',\n",
       "                                           interaction_constraints='',\n",
       "                                           learning_rate=0.300000012,\n",
       "                                           max_delta_step=0, max_depth=6,\n",
       "                                           min_child_weight=1, missing=nan,\n",
       "                                           monotone_constraints='()',\n",
       "                                           n_esti...\n",
       "                                                  0.6100000000000001,\n",
       "                                                  0.7100000000000001, 0.81,\n",
       "                                                  0.91, 1.01, 1.11,\n",
       "                                                  1.2100000000000002, 1.31,\n",
       "                                                  1.4100000000000001, 1.51,\n",
       "                                                  1.61, 1.7100000000000002,\n",
       "                                                  1.81, 1.9100000000000001,\n",
       "                                                  2.01, 2.11, 2.21, 2.31, 2.41,\n",
       "                                                  2.51, 2.61, 2.71, 2.81, 2.91, ...],\n",
       "                                        'max_delta_step': [1, 2, 3, 4, 5, 6, 7,\n",
       "                                                           8, 9],\n",
       "                                        'max_depth': range(1, 10),\n",
       "                                        'min_child_weight': range(1, 5),\n",
       "                                        'objective': 'multi:softmax'},\n",
       "                   scoring='f1_micro', verbose=2)"
      ]
     },
     "execution_count": 44,
     "metadata": {},
     "output_type": "execute_result"
    }
   ],
   "source": [
    "%%time\n",
    "## XGBoost Hyperparameter Tuning\n",
    "\n",
    "param_test1 = {\n",
    " 'booster' : ['gbtree', 'gblinear', 'dart'],\n",
    " 'max_depth':range(1,10,1),\n",
    " 'min_child_weight':range(1,5,1),\n",
    " 'eta': [(x) for x in np.arange(0.01,0.5,0.01)],\n",
    " 'objective' : 'multi:softmax',\n",
    " 'gamma': [(x) for x in np.arange(0.01,10,0.1)],\n",
    " 'max_delta_step':[(x) for x in np.arange(1,10,1)]\n",
    "}\n",
    "\n",
    "\n",
    "xgb_random = RandomizedSearchCV(estimator = xgb, param_distributions = param_test1,n_jobs = -1,scoring='f1_micro',verbose=2)\n",
    "xgb_random.fit(X_train,y_train.ravel())\n"
   ]
  },
  {
   "cell_type": "code",
   "execution_count": 45,
   "id": "62b96c00-9035-494a-ad1f-6849b16db73c",
   "metadata": {},
   "outputs": [
    {
     "name": "stdout",
     "output_type": "stream",
     "text": [
      "The average f1 score from cross validation for XGBoost is 0.7313903743315509\n"
     ]
    }
   ],
   "source": [
    "print (\"The average f1 score from cross validation for XGBoost is\", rf_random.best_score_)"
   ]
  },
  {
   "cell_type": "code",
   "execution_count": 46,
   "id": "35abd2aa-c81f-4ab8-ac1c-fbbbbecdb100",
   "metadata": {},
   "outputs": [
    {
     "name": "stdout",
     "output_type": "stream",
     "text": [
      "The optimal model XGBoost is with parameter {'n_estimators': 35, 'max_depth': 26}\n"
     ]
    }
   ],
   "source": [
    "print (\"The optimal model XGBoost is with parameter\", rf_random.best_params_)"
   ]
  },
  {
   "cell_type": "markdown",
   "id": "1838934a-6e40-42ec-aa7c-f16e7d07fe97",
   "metadata": {},
   "source": [
    "### Predicting on Test Set"
   ]
  },
  {
   "cell_type": "code",
   "execution_count": 47,
   "id": "087695b8-4655-4fa2-ab85-363e1b61e7c0",
   "metadata": {},
   "outputs": [
    {
     "name": "stdout",
     "output_type": "stream",
     "text": [
      "The F1 score for XGBoost Classifier is 0.7124735729386892\n"
     ]
    }
   ],
   "source": [
    "xgb.set_params(**xgb_random.best_params_,random_state =0 )\n",
    "y_pred = xgb.predict(X_test)\n",
    "\n",
    "\n",
    "print (\"The F1 score for XGBoost Classifier is\", f1_score(y_test, y_pred, average='micro'))"
   ]
  },
  {
   "cell_type": "code",
   "execution_count": 48,
   "id": "a8196608-1b7b-47b3-a716-e28b43cb386a",
   "metadata": {},
   "outputs": [
    {
     "name": "stdout",
     "output_type": "stream",
     "text": [
      "Confusion matrix, without normalization\n"
     ]
    },
    {
     "data": {
      "image/png": "[encoded data removed]",
      "text/plain": [
       "<Figure size 432x288 with 2 Axes>"
      ]
     },
     "metadata": {
      "needs_background": "light"
     },
     "output_type": "display_data"
    }
   ],
   "source": [
    "cm = metrics.confusion_matrix(y_test, y_pred)\n",
    "plot_confusion_matrix(cm,classes=['No', 'Yes','Maybe'])"
   ]
  },
  {
   "cell_type": "code",
   "execution_count": 49,
   "id": "d7e79e3b-00fb-4ab6-888f-2f85ad28d5d3",
   "metadata": {},
   "outputs": [
    {
     "data": {
      "text/plain": [
       "{'Logistic Regression': 0.668,\n",
       " 'Support Vector Classifier': 0.681,\n",
       " 'Random Forest Classifier': 0.708,\n",
       " 'AdaBoost Classifier': 0.7,\n",
       " 'XGBoost Classifier': 0.712}"
      ]
     },
     "execution_count": 49,
     "metadata": {},
     "output_type": "execute_result"
    }
   ],
   "source": [
    "summary_f1['XGBoost Classifier'] = round(f1_score(y_test, y_pred, average='micro'),3)\n",
    "summary_f1            "
   ]
  },
  {
   "cell_type": "markdown",
   "id": "df6fbc12-69c6-43a8-b83c-cc160cd7a007",
   "metadata": {},
   "source": [
    "## Model Comparison"
   ]
  },
  {
   "cell_type": "code",
   "execution_count": 50,
   "id": "18b6da97-1da6-467e-9576-8322bb2e18bf",
   "metadata": {},
   "outputs": [
    {
     "data": {
      "text/plain": [
       "<AxesSubplot:xlabel='F1 Score', ylabel='algorithm'>"
      ]
     },
     "execution_count": 50,
     "metadata": {},
     "output_type": "execute_result"
    },
    {
     "data": {
      "image/png": "[encoded data removed]",
      "text/plain": [
       "<Figure size 432x288 with 1 Axes>"
      ]
     },
     "metadata": {},
     "output_type": "display_data"
    }
   ],
   "source": [
    "import seaborn as sns\n",
    "\n",
    "df_summary_f1 = pd.DataFrame(summary_f1,index = [0])\n",
    "df_summary_f1 = df_summary_f1.T.reset_index().rename(columns={\"index\": \"algorithm\", 0: \"F1 Score\"}).sort_values(by='F1 Score', ascending=False)\n",
    "\n",
    "sns.set_theme(style=\"darkgrid\")\n",
    "sns.barplot(x=\"F1 Score\", y=\"algorithm\", data=df_summary_f1,\n",
    "            label=\"Total\", color=\"b\")"
   ]
  },
  {
   "cell_type": "markdown",
   "id": "b77cbd3c-1a04-48e6-88d3-0fa390365e87",
   "metadata": {},
   "source": [
    "***\n",
    "# 3. Feature Importance"
   ]
  },
  {
   "cell_type": "code",
   "execution_count": 51,
   "id": "c5d9da12-2216-4276-8020-025d8c7ea556",
   "metadata": {},
   "outputs": [
    {
     "data": {
      "text/plain": [
       "<BarContainer object of 11 artists>"
      ]
     },
     "execution_count": 51,
     "metadata": {},
     "output_type": "execute_result"
    },
    {
     "data": {
      "image/png": "[encoded data removed]",
      "text/plain": [
       "<Figure size 432x288 with 1 Axes>"
      ]
     },
     "metadata": {},
     "output_type": "display_data"
    }
   ],
   "source": [
    "xgb_f1 = xgb.feature_importances_\n",
    "\n",
    "def match_2 (x,y):\n",
    "    a = {}\n",
    "    for i in range (len(x)):\n",
    "        a[x[i]] = y [i]\n",
    "    a1 = pd.DataFrame.from_dict(a, orient='index').reset_index()\n",
    "    a1 = a1.rename(columns={\"index\": \"feature\", 0: \"importance\"}).sort_values(by='importance', ascending=False)\n",
    "    return a1\n",
    "\n",
    "\n",
    "\n",
    "f = match_2(all_feature,xgb_f1)[0:11].sort_values(by='importance', ascending=True)\n",
    "f_new = f['feature'][0:11]\n",
    "pyplot.barh(f['feature'][0:11],f['importance'][0:11])\n",
    "#pyplot.xticks(rotation=70)"
   ]
  },
  {
   "cell_type": "code",
   "execution_count": 52,
   "id": "bc70f554-aa37-4d97-b4d4-cc41fd1ec750",
   "metadata": {},
   "outputs": [
    {
     "data": {
      "text/html": [
       "<div>\n",
       "<style scoped>\n",
       "    .dataframe tbody tr th:only-of-type {\n",
       "        vertical-align: middle;\n",
       "    }\n",
       "\n",
       "    .dataframe tbody tr th {\n",
       "        vertical-align: top;\n",
       "    }\n",
       "\n",
       "    .dataframe thead th {\n",
       "        text-align: right;\n",
       "    }\n",
       "</style>\n",
       "<table border=\"1\" class=\"dataframe\">\n",
       "  <thead>\n",
       "    <tr style=\"text-align: right;\">\n",
       "      <th></th>\n",
       "      <th>feature</th>\n",
       "      <th>importance</th>\n",
       "    </tr>\n",
       "  </thead>\n",
       "  <tbody>\n",
       "    <tr>\n",
       "      <th>22</th>\n",
       "      <td>self_mh_dis_interfere_not_treated</td>\n",
       "      <td>0.246784</td>\n",
       "    </tr>\n",
       "    <tr>\n",
       "      <th>18</th>\n",
       "      <td>self_past_mh_dis</td>\n",
       "      <td>0.192778</td>\n",
       "    </tr>\n",
       "    <tr>\n",
       "      <th>32</th>\n",
       "      <td>age</td>\n",
       "      <td>0.051706</td>\n",
       "    </tr>\n",
       "    <tr>\n",
       "      <th>24</th>\n",
       "      <td>self_willing_mh_ff</td>\n",
       "      <td>0.043606</td>\n",
       "    </tr>\n",
       "    <tr>\n",
       "      <th>21</th>\n",
       "      <td>self_mh_dis_interfere_treated</td>\n",
       "      <td>0.037278</td>\n",
       "    </tr>\n",
       "    <tr>\n",
       "      <th>28</th>\n",
       "      <td>cwrkr_mh_dis_recat</td>\n",
       "      <td>0.030553</td>\n",
       "    </tr>\n",
       "    <tr>\n",
       "      <th>15</th>\n",
       "      <td>employer_imp_ph</td>\n",
       "      <td>0.027572</td>\n",
       "    </tr>\n",
       "    <tr>\n",
       "      <th>20</th>\n",
       "      <td>self_mh_dis_fam_history</td>\n",
       "      <td>0.027223</td>\n",
       "    </tr>\n",
       "    <tr>\n",
       "      <th>16</th>\n",
       "      <td>employer_imp_mh</td>\n",
       "      <td>0.026272</td>\n",
       "    </tr>\n",
       "    <tr>\n",
       "      <th>8</th>\n",
       "      <td>employer_leave_easiness</td>\n",
       "      <td>0.026230</td>\n",
       "    </tr>\n",
       "    <tr>\n",
       "      <th>34</th>\n",
       "      <td>count_employees_new</td>\n",
       "      <td>0.020756</td>\n",
       "    </tr>\n",
       "    <tr>\n",
       "      <th>30</th>\n",
       "      <td>employer_good_response</td>\n",
       "      <td>0.017995</td>\n",
       "    </tr>\n",
       "    <tr>\n",
       "      <th>19</th>\n",
       "      <td>self_mh_dis_treatment</td>\n",
       "      <td>0.017538</td>\n",
       "    </tr>\n",
       "    <tr>\n",
       "      <th>10</th>\n",
       "      <td>comf_with_mgr</td>\n",
       "      <td>0.017211</td>\n",
       "    </tr>\n",
       "    <tr>\n",
       "      <th>31</th>\n",
       "      <td>tech_ind_support</td>\n",
       "      <td>0.015785</td>\n",
       "    </tr>\n",
       "    <tr>\n",
       "      <th>3</th>\n",
       "      <td>employer_mh_benefit</td>\n",
       "      <td>0.015200</td>\n",
       "    </tr>\n",
       "    <tr>\n",
       "      <th>5</th>\n",
       "      <td>employer_mh_discussed</td>\n",
       "      <td>0.014656</td>\n",
       "    </tr>\n",
       "    <tr>\n",
       "      <th>29</th>\n",
       "      <td>employer_bad_response</td>\n",
       "      <td>0.014344</td>\n",
       "    </tr>\n",
       "    <tr>\n",
       "      <th>17</th>\n",
       "      <td>self_willing_mh_mgr</td>\n",
       "      <td>0.013542</td>\n",
       "    </tr>\n",
       "    <tr>\n",
       "      <th>23</th>\n",
       "      <td>self_observe_mh_dis_reveal</td>\n",
       "      <td>0.012640</td>\n",
       "    </tr>\n",
       "    <tr>\n",
       "      <th>12</th>\n",
       "      <td>comf_with_coworker</td>\n",
       "      <td>0.011958</td>\n",
       "    </tr>\n",
       "    <tr>\n",
       "      <th>4</th>\n",
       "      <td>employer_mh_coverage</td>\n",
       "      <td>0.011831</td>\n",
       "    </tr>\n",
       "    <tr>\n",
       "      <th>25</th>\n",
       "      <td>self_willing_ph_pe</td>\n",
       "      <td>0.011774</td>\n",
       "    </tr>\n",
       "    <tr>\n",
       "      <th>2</th>\n",
       "      <td>role_tech_nontech</td>\n",
       "      <td>0.011692</td>\n",
       "    </tr>\n",
       "    <tr>\n",
       "      <th>6</th>\n",
       "      <td>employer_mh_resources</td>\n",
       "      <td>0.010748</td>\n",
       "    </tr>\n",
       "    <tr>\n",
       "      <th>11</th>\n",
       "      <td>discuss_mh_employer_yesno</td>\n",
       "      <td>0.009822</td>\n",
       "    </tr>\n",
       "    <tr>\n",
       "      <th>1</th>\n",
       "      <td>employer_tech_nontech</td>\n",
       "      <td>0.009821</td>\n",
       "    </tr>\n",
       "    <tr>\n",
       "      <th>14</th>\n",
       "      <td>discuss_mh_oth_cwrkr</td>\n",
       "      <td>0.009760</td>\n",
       "    </tr>\n",
       "    <tr>\n",
       "      <th>9</th>\n",
       "      <td>comf_ph_mh</td>\n",
       "      <td>0.009220</td>\n",
       "    </tr>\n",
       "    <tr>\n",
       "      <th>7</th>\n",
       "      <td>employer_anonymity</td>\n",
       "      <td>0.008589</td>\n",
       "    </tr>\n",
       "    <tr>\n",
       "      <th>26</th>\n",
       "      <td>self_willing_mh_pe</td>\n",
       "      <td>0.007535</td>\n",
       "    </tr>\n",
       "    <tr>\n",
       "      <th>33</th>\n",
       "      <td>new_gender</td>\n",
       "      <td>0.006253</td>\n",
       "    </tr>\n",
       "    <tr>\n",
       "      <th>27</th>\n",
       "      <td>self_open_mh_is</td>\n",
       "      <td>0.006030</td>\n",
       "    </tr>\n",
       "    <tr>\n",
       "      <th>13</th>\n",
       "      <td>discuss_mh_cwrkr</td>\n",
       "      <td>0.005296</td>\n",
       "    </tr>\n",
       "    <tr>\n",
       "      <th>0</th>\n",
       "      <td>self_employed</td>\n",
       "      <td>0.000000</td>\n",
       "    </tr>\n",
       "  </tbody>\n",
       "</table>\n",
       "</div>"
      ],
      "text/plain": [
       "                              feature  importance\n",
       "22  self_mh_dis_interfere_not_treated    0.246784\n",
       "18                   self_past_mh_dis    0.192778\n",
       "32                                age    0.051706\n",
       "24                 self_willing_mh_ff    0.043606\n",
       "21      self_mh_dis_interfere_treated    0.037278\n",
       "28                 cwrkr_mh_dis_recat    0.030553\n",
       "15                    employer_imp_ph    0.027572\n",
       "20            self_mh_dis_fam_history    0.027223\n",
       "16                    employer_imp_mh    0.026272\n",
       "8             employer_leave_easiness    0.026230\n",
       "34                count_employees_new    0.020756\n",
       "30             employer_good_response    0.017995\n",
       "19              self_mh_dis_treatment    0.017538\n",
       "10                      comf_with_mgr    0.017211\n",
       "31                   tech_ind_support    0.015785\n",
       "3                 employer_mh_benefit    0.015200\n",
       "5               employer_mh_discussed    0.014656\n",
       "29              employer_bad_response    0.014344\n",
       "17                self_willing_mh_mgr    0.013542\n",
       "23         self_observe_mh_dis_reveal    0.012640\n",
       "12                 comf_with_coworker    0.011958\n",
       "4                employer_mh_coverage    0.011831\n",
       "25                 self_willing_ph_pe    0.011774\n",
       "2                   role_tech_nontech    0.011692\n",
       "6               employer_mh_resources    0.010748\n",
       "11          discuss_mh_employer_yesno    0.009822\n",
       "1               employer_tech_nontech    0.009821\n",
       "14               discuss_mh_oth_cwrkr    0.009760\n",
       "9                          comf_ph_mh    0.009220\n",
       "7                  employer_anonymity    0.008589\n",
       "26                 self_willing_mh_pe    0.007535\n",
       "33                         new_gender    0.006253\n",
       "27                    self_open_mh_is    0.006030\n",
       "13                   discuss_mh_cwrkr    0.005296\n",
       "0                       self_employed    0.000000"
      ]
     },
     "execution_count": 52,
     "metadata": {},
     "output_type": "execute_result"
    }
   ],
   "source": [
    " match_2(all_feature,xgb_f1)"
   ]
  },
  {
   "cell_type": "markdown",
   "id": "49d5ccff-14fe-49c6-84a8-5702eb487b5d",
   "metadata": {},
   "source": [
    "***"
   ]
  }
 ],
 "metadata": {
  "kernelspec": {
   "display_name": "Python 3",
   "language": "python",
   "name": "python3"
  },
  "language_info": {
   "codemirror_mode": {
    "name": "ipython",
    "version": 3
   },
   "file_extension": ".py",
   "mimetype": "text/x-python",
   "name": "python",
   "nbconvert_exporter": "python",
   "pygments_lexer": "ipython3",
   "version": "3.8.8"
  }
 },
 "nbformat": 4,
 "nbformat_minor": 5
}
